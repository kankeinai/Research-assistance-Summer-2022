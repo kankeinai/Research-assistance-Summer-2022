{
  "nbformat": 4,
  "nbformat_minor": 0,
  "metadata": {
    "colab": {
      "name": "RA-ship-DL-practice-Matrices&Gradients.ipynb",
      "provenance": []
    },
    "kernelspec": {
      "name": "python3",
      "display_name": "Python 3"
    },
    "language_info": {
      "name": "python"
    },
    "accelerator": "GPU"
  },
  "cells": [
    {
      "cell_type": "code",
      "source": [
        "import torch\n",
        "import numpy as np"
      ],
      "metadata": {
        "id": "-3s0oxAZGMhY"
      },
      "execution_count": 15,
      "outputs": []
    },
    {
      "cell_type": "markdown",
      "source": [
        "#Matrices"
      ],
      "metadata": {
        "id": "Wmk_kSKWOOB3"
      }
    },
    {
      "cell_type": "markdown",
      "source": [
        "##Tensors on GPU/CPU"
      ],
      "metadata": {
        "id": "dl4SMKtTHUYS"
      }
    },
    {
      "cell_type": "markdown",
      "source": [
        "By default tensors are created on CPU:"
      ],
      "metadata": {
        "id": "cBWdAfuHH511"
      }
    },
    {
      "cell_type": "code",
      "source": [
        "tensor_cpu = torch.ones(2, 2)\n",
        "tensor_cpu"
      ],
      "metadata": {
        "colab": {
          "base_uri": "https://localhost:8080/"
        },
        "id": "onSgM9SJG66_",
        "outputId": "6184bab1-b4ce-4369-f070-0e659a7e783d"
      },
      "execution_count": 2,
      "outputs": [
        {
          "output_type": "execute_result",
          "data": {
            "text/plain": [
              "tensor([[1., 1.],\n",
              "        [1., 1.]])"
            ]
          },
          "metadata": {},
          "execution_count": 2
        }
      ]
    },
    {
      "cell_type": "markdown",
      "source": [
        "In google colab we need to got to Runtime->Change runtime->GPU to change it."
      ],
      "metadata": {
        "id": "Q8BmWcKeH_o7"
      }
    },
    {
      "cell_type": "code",
      "execution_count": 3,
      "metadata": {
        "colab": {
          "base_uri": "https://localhost:8080/"
        },
        "id": "dDmiHgLdFal5",
        "outputId": "309fa541-4e7d-4e42-c3d3-be351c9edcda"
      },
      "outputs": [
        {
          "output_type": "execute_result",
          "data": {
            "text/plain": [
              "tensor([[1., 1.],\n",
              "        [1., 1.]], device='cuda:0')"
            ]
          },
          "metadata": {},
          "execution_count": 3
        }
      ],
      "source": [
        "device = torch.device(\"cuda:0\" if torch.cuda.is_available() else \"cpu\")\n",
        "#translate tensor from CPU to GPU, it overwrites original tensor\n",
        "tensor_cpu.to(device)"
      ]
    },
    {
      "cell_type": "code",
      "source": [
        "#return to CPU\n",
        "tensor_cpu.cpu()"
      ],
      "metadata": {
        "colab": {
          "base_uri": "https://localhost:8080/"
        },
        "id": "AisENlGwHDjC",
        "outputId": "7ac498dc-9c18-4160-deaa-329c4e8510bf"
      },
      "execution_count": 4,
      "outputs": [
        {
          "output_type": "execute_result",
          "data": {
            "text/plain": [
              "tensor([[1., 1.],\n",
              "        [1., 1.]])"
            ]
          },
          "metadata": {},
          "execution_count": 4
        }
      ]
    },
    {
      "cell_type": "markdown",
      "source": [
        "##Tensor operations"
      ],
      "metadata": {
        "id": "RhK7Yyq7HSUS"
      }
    },
    {
      "cell_type": "code",
      "source": [
        "#we can checn shape of tensor with .size()\n",
        "ones = torch.ones(3, 4)\n",
        "ones, ones.size()"
      ],
      "metadata": {
        "colab": {
          "base_uri": "https://localhost:8080/"
        },
        "id": "hModNRCwHYW7",
        "outputId": "6fa6f44f-aaa2-460b-c739-4f3e22614d18"
      },
      "execution_count": 32,
      "outputs": [
        {
          "output_type": "execute_result",
          "data": {
            "text/plain": [
              "(tensor([[1., 1., 1., 1.],\n",
              "         [1., 1., 1., 1.],\n",
              "         [1., 1., 1., 1.]]), torch.Size([3, 4]))"
            ]
          },
          "metadata": {},
          "execution_count": 32
        }
      ]
    },
    {
      "cell_type": "code",
      "source": [
        "#we can reshape tensor with with .view() with a valid size, \n",
        "#but it doesn't change original tensor\n",
        "ones.view(2,6), ones.size(), ones.view(2,6).size()"
      ],
      "metadata": {
        "colab": {
          "base_uri": "https://localhost:8080/"
        },
        "id": "SxxsClKLHmMK",
        "outputId": "0ace9067-7648-4b38-d747-dc685fabe202"
      },
      "execution_count": 33,
      "outputs": [
        {
          "output_type": "execute_result",
          "data": {
            "text/plain": [
              "(tensor([[1., 1., 1., 1., 1., 1.],\n",
              "         [1., 1., 1., 1., 1., 1.]]), torch.Size([3, 4]), torch.Size([2, 6]))"
            ]
          },
          "metadata": {},
          "execution_count": 33
        }
      ]
    },
    {
      "cell_type": "code",
      "source": [
        "ones.numpy()"
      ],
      "metadata": {
        "colab": {
          "base_uri": "https://localhost:8080/"
        },
        "id": "2YCSuQ9rJfJ2",
        "outputId": "3ab6ca7e-ea81-4d04-8274-e43f04d09a89"
      },
      "execution_count": 34,
      "outputs": [
        {
          "output_type": "execute_result",
          "data": {
            "text/plain": [
              "array([[1., 1., 1., 1.],\n",
              "       [1., 1., 1., 1.],\n",
              "       [1., 1., 1., 1.]], dtype=float32)"
            ]
          },
          "metadata": {},
          "execution_count": 34
        }
      ]
    },
    {
      "cell_type": "code",
      "source": [
        "integers = torch.from_numpy(np.array([[1,2,3],[4,5,6],[7,8,9]]))\n",
        "integers"
      ],
      "metadata": {
        "colab": {
          "base_uri": "https://localhost:8080/"
        },
        "id": "j3UJkaEXIrry",
        "outputId": "0eec044c-3dc1-481e-a2ff-1b4541bad3f5"
      },
      "execution_count": 35,
      "outputs": [
        {
          "output_type": "execute_result",
          "data": {
            "text/plain": [
              "tensor([[1, 2, 3],\n",
              "        [4, 5, 6],\n",
              "        [7, 8, 9]])"
            ]
          },
          "metadata": {},
          "execution_count": 35
        }
      ]
    },
    {
      "cell_type": "markdown",
      "source": [
        "###Addition"
      ],
      "metadata": {
        "id": "mwmCfqULKhrD"
      }
    },
    {
      "cell_type": "code",
      "source": [
        "# Element-wise addition\n",
        "ones_new = torch.ones(integers.size())\n",
        "ones_new+integers"
      ],
      "metadata": {
        "colab": {
          "base_uri": "https://localhost:8080/"
        },
        "id": "pK-dh-vzJNdr",
        "outputId": "37c24983-7d65-4db9-ff71-e198a7819817"
      },
      "execution_count": 36,
      "outputs": [
        {
          "output_type": "execute_result",
          "data": {
            "text/plain": [
              "tensor([[ 2.,  3.,  4.],\n",
              "        [ 5.,  6.,  7.],\n",
              "        [ 8.,  9., 10.]])"
            ]
          },
          "metadata": {},
          "execution_count": 36
        }
      ]
    },
    {
      "cell_type": "code",
      "source": [
        "#or alternative\n",
        "torch.add(ones_new, integers)"
      ],
      "metadata": {
        "colab": {
          "base_uri": "https://localhost:8080/"
        },
        "id": "7g4sR35qJy9z",
        "outputId": "ddd47d2f-cda7-4d0f-865f-093764d1ecd9"
      },
      "execution_count": 37,
      "outputs": [
        {
          "output_type": "execute_result",
          "data": {
            "text/plain": [
              "tensor([[ 2.,  3.,  4.],\n",
              "        [ 5.,  6.,  7.],\n",
              "        [ 8.,  9., 10.]])"
            ]
          },
          "metadata": {},
          "execution_count": 37
        }
      ]
    },
    {
      "cell_type": "code",
      "source": [
        "#inplace addition\n",
        "ones_new.add_(integers)\n",
        "ones_new"
      ],
      "metadata": {
        "colab": {
          "base_uri": "https://localhost:8080/"
        },
        "id": "D4gkuLwyJ9j2",
        "outputId": "707e7715-4646-4b59-dce0-8ec3db26d84f"
      },
      "execution_count": 38,
      "outputs": [
        {
          "output_type": "execute_result",
          "data": {
            "text/plain": [
              "tensor([[ 2.,  3.,  4.],\n",
              "        [ 5.,  6.,  7.],\n",
              "        [ 8.,  9., 10.]])"
            ]
          },
          "metadata": {},
          "execution_count": 38
        }
      ]
    },
    {
      "cell_type": "markdown",
      "source": [
        "But..."
      ],
      "metadata": {
        "id": "CAWzo7d1KaNM"
      }
    },
    {
      "cell_type": "code",
      "source": [
        "integers.add_(ones_new)\n",
        "integers"
      ],
      "metadata": {
        "colab": {
          "base_uri": "https://localhost:8080/",
          "height": 181
        },
        "id": "JBaQ-daOKTMJ",
        "outputId": "a9547550-00ab-47c6-f915-3489bc33dfb7"
      },
      "execution_count": 39,
      "outputs": [
        {
          "output_type": "error",
          "ename": "RuntimeError",
          "evalue": "ignored",
          "traceback": [
            "\u001b[0;31m---------------------------------------------------------------------------\u001b[0m",
            "\u001b[0;31mRuntimeError\u001b[0m                              Traceback (most recent call last)",
            "\u001b[0;32m<ipython-input-39-2f316eaca436>\u001b[0m in \u001b[0;36m<module>\u001b[0;34m()\u001b[0m\n\u001b[0;32m----> 1\u001b[0;31m \u001b[0mintegers\u001b[0m\u001b[0;34m.\u001b[0m\u001b[0madd_\u001b[0m\u001b[0;34m(\u001b[0m\u001b[0mones_new\u001b[0m\u001b[0;34m)\u001b[0m\u001b[0;34m\u001b[0m\u001b[0;34m\u001b[0m\u001b[0m\n\u001b[0m\u001b[1;32m      2\u001b[0m \u001b[0mintegers\u001b[0m\u001b[0;34m\u001b[0m\u001b[0;34m\u001b[0m\u001b[0m\n",
            "\u001b[0;31mRuntimeError\u001b[0m: result type Float can't be cast to the desired output type Long"
          ]
        }
      ]
    },
    {
      "cell_type": "markdown",
      "source": [
        "###Subtraction, Devision, Multiplication"
      ],
      "metadata": {
        "id": "3eK2mlYrKkCr"
      }
    },
    {
      "cell_type": "code",
      "source": [
        "a = torch.ones(2,3)*3\n",
        "b = torch.ones(2,3)\n",
        "a - b"
      ],
      "metadata": {
        "colab": {
          "base_uri": "https://localhost:8080/"
        },
        "id": "Tl-T4x-pKnnX",
        "outputId": "f46172f3-4868-40a3-8ef7-449b243f0880"
      },
      "execution_count": 48,
      "outputs": [
        {
          "output_type": "execute_result",
          "data": {
            "text/plain": [
              "tensor([[2., 2., 2.],\n",
              "        [2., 2., 2.]])"
            ]
          },
          "metadata": {},
          "execution_count": 48
        }
      ]
    },
    {
      "cell_type": "code",
      "source": [
        "#not inplace\n",
        "a.sub(b), a"
      ],
      "metadata": {
        "colab": {
          "base_uri": "https://localhost:8080/"
        },
        "id": "9OzH1gi8Ln0z",
        "outputId": "36709a8c-3ad0-4b78-c9ea-7c25ded430b6"
      },
      "execution_count": 49,
      "outputs": [
        {
          "output_type": "execute_result",
          "data": {
            "text/plain": [
              "(tensor([[2., 2., 2.],\n",
              "         [2., 2., 2.]]), tensor([[3., 3., 3.],\n",
              "         [3., 3., 3.]]))"
            ]
          },
          "metadata": {},
          "execution_count": 49
        }
      ]
    },
    {
      "cell_type": "code",
      "source": [
        "#inplace\n",
        "a.sub_(b), a"
      ],
      "metadata": {
        "colab": {
          "base_uri": "https://localhost:8080/"
        },
        "id": "n4uoxfDKLrgA",
        "outputId": "f2020187-6521-4e49-8f75-b69cb92102b4"
      },
      "execution_count": 50,
      "outputs": [
        {
          "output_type": "execute_result",
          "data": {
            "text/plain": [
              "(tensor([[2., 2., 2.],\n",
              "         [2., 2., 2.]]), tensor([[2., 2., 2.],\n",
              "         [2., 2., 2.]]))"
            ]
          },
          "metadata": {},
          "execution_count": 50
        }
      ]
    },
    {
      "cell_type": "markdown",
      "source": [
        "...the same logic with element-wise multiplication using `.mul()` or `.mul_()`\n",
        "\n",
        "And with division using `.div()` or `.div_()`"
      ],
      "metadata": {
        "id": "0Q1djiGSL7Wb"
      }
    },
    {
      "cell_type": "markdown",
      "source": [
        "### Mean and std"
      ],
      "metadata": {
        "id": "oEkfDfh-MUx-"
      }
    },
    {
      "cell_type": "code",
      "source": [
        "# generate random int betwee 0 and 10 (not inclusive)\n",
        "# size should be a tuple\n",
        "random_integers = torch.randint(0, 10,(3,4)).double()\n",
        "random_integers"
      ],
      "metadata": {
        "colab": {
          "base_uri": "https://localhost:8080/"
        },
        "id": "X-9cFOqAMfV-",
        "outputId": "15286c37-76e2-48ae-b352-a801722b53da"
      },
      "execution_count": 61,
      "outputs": [
        {
          "output_type": "execute_result",
          "data": {
            "text/plain": [
              "tensor([[6., 8., 4., 8.],\n",
              "        [5., 2., 8., 0.],\n",
              "        [0., 9., 5., 3.]], dtype=torch.float64)"
            ]
          },
          "metadata": {},
          "execution_count": 61
        }
      ]
    },
    {
      "cell_type": "code",
      "source": [
        "random_integers.mean(),random_integers.mean(dim=0), random_integers.mean(dim=1)"
      ],
      "metadata": {
        "colab": {
          "base_uri": "https://localhost:8080/"
        },
        "id": "7nNKp2VTM4jA",
        "outputId": "a819d230-8a4f-40e7-e85a-6dbf1520418d"
      },
      "execution_count": 63,
      "outputs": [
        {
          "output_type": "execute_result",
          "data": {
            "text/plain": [
              "(tensor(4.8333, dtype=torch.float64),\n",
              " tensor([3.6667, 6.3333, 5.6667, 3.6667], dtype=torch.float64),\n",
              " tensor([6.5000, 3.7500, 4.2500], dtype=torch.float64))"
            ]
          },
          "metadata": {},
          "execution_count": 63
        }
      ]
    },
    {
      "cell_type": "code",
      "source": [
        "random_integers.std(),random_integers.std(dim=0), random_integers.std(dim=1)"
      ],
      "metadata": {
        "colab": {
          "base_uri": "https://localhost:8080/"
        },
        "id": "gnCSgeHqNrnU",
        "outputId": "4ae23054-f7d5-4953-a1dd-7da18fa9e713"
      },
      "execution_count": 64,
      "outputs": [
        {
          "output_type": "execute_result",
          "data": {
            "text/plain": [
              "(tensor(3.1286, dtype=torch.float64),\n",
              " tensor([3.2146, 3.7859, 2.0817, 4.0415], dtype=torch.float64),\n",
              " tensor([1.9149, 3.5000, 3.7749], dtype=torch.float64))"
            ]
          },
          "metadata": {},
          "execution_count": 64
        }
      ]
    },
    {
      "cell_type": "markdown",
      "source": [
        "#Gradients"
      ],
      "metadata": {
        "id": "BTfgVBxZOXjT"
      }
    },
    {
      "cell_type": "code",
      "source": [
        "a = torch.Tensor([1,2,3])\n",
        "a.requires_grad"
      ],
      "metadata": {
        "colab": {
          "base_uri": "https://localhost:8080/"
        },
        "id": "19Jwc2gROdpu",
        "outputId": "6b5d8508-322c-4385-bf75-7df53b6cdb0e"
      },
      "execution_count": 103,
      "outputs": [
        {
          "output_type": "execute_result",
          "data": {
            "text/plain": [
              "False"
            ]
          },
          "metadata": {},
          "execution_count": 103
        }
      ]
    },
    {
      "cell_type": "code",
      "source": [
        "a.requires_grad = True"
      ],
      "metadata": {
        "id": "uYU_A-72RxYd"
      },
      "execution_count": 104,
      "outputs": []
    },
    {
      "cell_type": "markdown",
      "source": [
        "$$y=5(a+1)^2$$\n",
        "$$o=\\frac{1}{2}\\sum_i{y_i}$$\n",
        "$$\\frac{∂o}{∂a} = \\frac{1}{2}\\sum_i{10(a_i+1)}$$"
      ],
      "metadata": {
        "id": "v239qv0fQbpl"
      }
    },
    {
      "cell_type": "code",
      "source": [
        "y = 5*(a+1)**2\n",
        "y"
      ],
      "metadata": {
        "colab": {
          "base_uri": "https://localhost:8080/"
        },
        "id": "1kbvQT6kOiNB",
        "outputId": "1fe3b64e-c715-4072-94a1-26d111d26f79"
      },
      "execution_count": 105,
      "outputs": [
        {
          "output_type": "execute_result",
          "data": {
            "text/plain": [
              "tensor([20., 45., 80.], grad_fn=<MulBackward0>)"
            ]
          },
          "metadata": {},
          "execution_count": 105
        }
      ]
    },
    {
      "cell_type": "code",
      "source": [
        "o = torch.sum(y)/2\n",
        "o"
      ],
      "metadata": {
        "colab": {
          "base_uri": "https://localhost:8080/"
        },
        "id": "06F_LSV9PL_A",
        "outputId": "6f3c4ba5-20af-4884-ba13-9d89bd013545"
      },
      "execution_count": 106,
      "outputs": [
        {
          "output_type": "execute_result",
          "data": {
            "text/plain": [
              "tensor(72.5000, grad_fn=<DivBackward0>)"
            ]
          },
          "metadata": {},
          "execution_count": 106
        }
      ]
    },
    {
      "cell_type": "code",
      "source": [
        "o.backward()"
      ],
      "metadata": {
        "id": "5EhgkZmUPU3D"
      },
      "execution_count": 107,
      "outputs": []
    },
    {
      "cell_type": "code",
      "source": [
        "a.grad"
      ],
      "metadata": {
        "colab": {
          "base_uri": "https://localhost:8080/"
        },
        "id": "rlzdtlEtPlVc",
        "outputId": "a8133294-6de3-430c-a50d-e63617b034b9"
      },
      "execution_count": 108,
      "outputs": [
        {
          "output_type": "execute_result",
          "data": {
            "text/plain": [
              "tensor([10., 15., 20.])"
            ]
          },
          "metadata": {},
          "execution_count": 108
        }
      ]
    },
    {
      "cell_type": "code",
      "source": [
        "print(a.requires_grad)\n",
        "print(y.requires_grad)\n",
        "print(o.requires_grad)"
      ],
      "metadata": {
        "colab": {
          "base_uri": "https://localhost:8080/"
        },
        "id": "hSAHi5afQDTx",
        "outputId": "56575c43-a40a-4f31-b57e-467d2b601e75"
      },
      "execution_count": 109,
      "outputs": [
        {
          "output_type": "stream",
          "name": "stdout",
          "text": [
            "True\n",
            "True\n",
            "True\n"
          ]
        }
      ]
    }
  ]
}